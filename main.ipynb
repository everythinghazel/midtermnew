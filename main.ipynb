{
 "cells": [
  {
   "cell_type": "code",
   "execution_count": null,
   "metadata": {},
   "outputs": [],
   "source": [
    "lst = input()\n",
    "word = input()\n",
    "\n",
    "lst = lst.split()\n",
    "\n",
    "\n",
    "for i in lst:\n",
    "  for n in word:\n",
    "    if n in i:\n",
    "      print(i,end=' ')\n",
    "      break\n",
    "    "
   ]
  },
  {
   "cell_type": "code",
   "execution_count": null,
   "metadata": {},
   "outputs": [],
   "source": [
    "lst1 = input().split()\n",
    "lst2 = input().split()\n",
    "\n",
    "#print(type(lst1))\n",
    "\n",
    "result = []\n",
    "\n",
    "while True:\n",
    "    try:\n",
    "        result.append(lst1.pop(0))\n",
    "        result.append(lst2.pop(0))\n",
    "       \n",
    "    except IndexError:\n",
    "        break\n",
    "print (result)"
   ]
  },
  {
   "cell_type": "code",
   "execution_count": null,
   "metadata": {},
   "outputs": [],
   "source": [
    "import math\n",
    "\n",
    "int = input(\"enter N values(N is the 2's power number)/n\")\n",
    "arr = [int(i)for i in int.split()]\n",
    "\n",
    "N = len(arr)\n",
    "\n",
    "no_of_itterations = round(math.log2(N))\n",
    "\n",
    "step = 1\n",
    "for n in range(no_of_itterations):\n",
    "    for i in range(0,N,2**(n+1)):\n",
    "        if arr[i]>arr[i+step]:\n",
    "            arr[i],arr[i+step] = arr[i+step],arr[i]\n",
    "            step *= 2\n",
    "            print(\"Final array:\"arr)\n",
    "\n",
    "\n"
   ]
  },
  {
   "cell_type": "code",
   "execution_count": 1,
   "metadata": {},
   "outputs": [
    {
     "ename": "NameError",
     "evalue": "name 'eng' is not defined",
     "output_type": "error",
     "traceback": [
      "\u001b[0;31m---------------------------------------------------------------------------\u001b[0m",
      "\u001b[0;31mNameError\u001b[0m                                 Traceback (most recent call last)",
      "Cell \u001b[0;32mIn[1], line 22\u001b[0m\n\u001b[1;32m     19\u001b[0m ax\u001b[39m.\u001b[39mset_title(\u001b[39m\"\u001b[39m\u001b[39mGrouped graph for scores\u001b[39m\u001b[39m\"\u001b[39m)\n\u001b[1;32m     21\u001b[0m ax\u001b[39m.\u001b[39mbar_label(math,Math)\n\u001b[0;32m---> 22\u001b[0m ax\u001b[39m.\u001b[39mbar_label(eng,English)\n\u001b[1;32m     23\u001b[0m ax\u001b[39m.\u001b[39mbar_label(phy, Physics)\n\u001b[1;32m     24\u001b[0m ax\u001b[39m.\u001b[39mbar_label(com,Computer)\n",
      "\u001b[0;31mNameError\u001b[0m: name 'eng' is not defined"
     ]
    },
    {
     "data": {
      "image/png": "[encoded data removed]",
      "text/plain": [
       "<Figure size 640x480 with 1 Axes>"
      ]
     },
     "metadata": {},
     "output_type": "display_data"
    }
   ],
   "source": [
    "width = 0.15\n",
    "import numpy as np\n",
    "x = np.arange(2)\n",
    "Math = [100,90]\n",
    "English = [ 90,80]\n",
    "Physics = [80,80]\n",
    "Computer = [ 90,90]\n",
    "\n",
    "\n",
    "from matplotlib import pyplot as plt\n",
    "fig,ax = plt.subplots()\n",
    "math = ax.bar(x-width*1.5,Math,width)\n",
    "english = ax.bar(x-width*1.5,English,width)\n",
    "physics = ax.bar(x+width*1.5,Physics,width)\n",
    "computer = ax.bar(x+width*1.5,Computer,width)\n",
    "\n",
    "ax.legend([\"Math\", \"English\", \"Physics\", \"Computer\"])\n",
    "\n",
    "ax.set_title(\"Grouped graph for scores\")\n",
    "\n",
    "ax.bar_label(math,Math)\n",
    "ax.bar_label(eng,English)\n",
    "ax.bar_label(phy, Physics)\n",
    "ax.bar_label(com,Computer)\n",
    "\n",
    "ax.set_xticks(ticks = [0,1])\n",
    "ax.set_xticklabels([\"Billy\", \"Mary\"])\n",
    "fig.savefig(\"midtermq5.png\")"
   ]
  },
  {
   "cell_type": "code",
   "execution_count": null,
   "metadata": {},
   "outputs": [],
   "source": []
  }
 ],
 "metadata": {
  "kernelspec": {
   "display_name": "Python 3",
   "language": "python",
   "name": "python3"
  },
  "language_info": {
   "codemirror_mode": {
    "name": "ipython",
    "version": 3
   },
   "file_extension": ".py",
   "mimetype": "text/x-python",
   "name": "python",
   "nbconvert_exporter": "python",
   "pygments_lexer": "ipython3",
   "version": "3.10.4"
  },
  "orig_nbformat": 4,
  "vscode": {
   "interpreter": {
    "hash": "3ad933181bd8a04b432d3370b9dc3b0662ad032c4dfaa4e4f1596c548f763858"
   }
  }
 },
 "nbformat": 4,
 "nbformat_minor": 2
}
